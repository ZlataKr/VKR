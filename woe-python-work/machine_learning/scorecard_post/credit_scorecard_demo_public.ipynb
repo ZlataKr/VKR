{
 "cells": [
  {
   "cell_type": "code",
   "execution_count": 1,
   "metadata": {
    "collapsed": true
   },
   "outputs": [],
   "source": [
    "# Import Libraries\n",
    "import swat\n",
    "import pandas as pd\n",
    "import numpy as np\n",
    "import warnings\n",
    "warnings.filterwarnings('ignore')\n",
    "import matplotlib.pyplot as plt\n",
    "%matplotlib inline"
   ]
  },
  {
   "cell_type": "markdown",
   "metadata": {},
   "source": [
    "### Create a Connection to CAS and Set Library <a name=\"casConnection\"></a>"
   ]
  },
  {
   "cell_type": "code",
   "execution_count": 2,
   "metadata": {
    "collapsed": true
   },
   "outputs": [],
   "source": [
    "# Create Cloud Analytic Server (CAS) Connection \n",
    "conn = swat.CAS(host, portnum, user, password)"
   ]
  },
  {
   "cell_type": "code",
   "execution_count": 3,
   "metadata": {},
   "outputs": [
    {
     "name": "stdout",
     "output_type": "stream",
     "text": [
      "NOTE: 'credit' is now the active caslib.\n",
      "NOTE: Cloud Analytic Services added the caslib 'credit'.\n"
     ]
    }
   ],
   "source": [
    "# Setup a CAS Library\n",
    "conn.addcaslib(activeonadd=True,\n",
    "               datasource=dict(srctype='path'),\n",
    "               name='credit',\n",
    "               path='/data/andre_data/credit_scorecard',\n",
    "               subdirectories=True);"
   ]
  },
  {
   "cell_type": "markdown",
   "metadata": {},
   "source": [
    "### Load Bank Data to CAS and Prep <a name=\"dataLoadPrep\"></a>"
   ]
  },
  {
   "cell_type": "code",
   "execution_count": 4,
   "metadata": {
    "collapsed": true
   },
   "outputs": [],
   "source": [
    "# Load Data\n",
    "credit_data = pd.read_csv('/data/andre_data/credit_scorecard/cs_accepts_train_small.csv')"
   ]
  },
  {
   "cell_type": "code",
   "execution_count": 5,
   "metadata": {},
   "outputs": [
    {
     "data": {
      "text/plain": [
       "(156915, 27)"
      ]
     },
     "execution_count": 5,
     "metadata": {},
     "output_type": "execute_result"
    }
   ],
   "source": [
    "# Shape\n",
    "credit_data.shape"
   ]
  },
  {
   "cell_type": "code",
   "execution_count": 6,
   "metadata": {
    "collapsed": true
   },
   "outputs": [],
   "source": [
    "# Impute Median for Missing Values\n",
    "credit_data['TimeAddress'] = credit_data['TimeAddress'].fillna((credit_data['TimeAddress'].median()))\n",
    "credit_data['TimeJob'] = credit_data['TimeJob'].fillna((credit_data['TimeJob'].median()))"
   ]
  },
  {
   "cell_type": "code",
   "execution_count": 7,
   "metadata": {},
   "outputs": [
    {
     "data": {
      "text/html": [
       "<div>\n",
       "<style scoped>\n",
       "    .dataframe tbody tr th:only-of-type {\n",
       "        vertical-align: middle;\n",
       "    }\n",
       "\n",
       "    .dataframe tbody tr th {\n",
       "        vertical-align: top;\n",
       "    }\n",
       "\n",
       "    .dataframe thead th {\n",
       "        text-align: right;\n",
       "    }\n",
       "</style>\n",
       "<table border=\"1\" class=\"dataframe\">\n",
       "  <thead>\n",
       "    <tr style=\"text-align: right;\">\n",
       "      <th></th>\n",
       "      <th>_customerID</th>\n",
       "      <th>target</th>\n",
       "      <th>title</th>\n",
       "      <th>Nchildren</th>\n",
       "      <th>Nhousehold</th>\n",
       "      <th>Age</th>\n",
       "      <th>TimeAddress</th>\n",
       "      <th>TimeJob</th>\n",
       "      <th>tel</th>\n",
       "      <th>NumMyLoan</th>\n",
       "      <th>NumFinLoan</th>\n",
       "      <th>NumLoans</th>\n",
       "      <th>Income</th>\n",
       "      <th>EC_Card</th>\n",
       "      <th>IncLevel</th>\n",
       "      <th>status</th>\n",
       "      <th>bureau</th>\n",
       "      <th>region</th>\n",
       "      <th>regionLarge</th>\n",
       "      <th>cash</th>\n",
       "      <th>product</th>\n",
       "      <th>resid</th>\n",
       "      <th>nat</th>\n",
       "      <th>prof</th>\n",
       "      <th>car</th>\n",
       "      <th>card</th>\n",
       "      <th>saving</th>\n",
       "    </tr>\n",
       "  </thead>\n",
       "  <tbody>\n",
       "    <tr>\n",
       "      <th>0</th>\n",
       "      <td>c000000028</td>\n",
       "      <td>Bad</td>\n",
       "      <td>H</td>\n",
       "      <td>1</td>\n",
       "      <td>2</td>\n",
       "      <td>26</td>\n",
       "      <td>9.0</td>\n",
       "      <td>27.0</td>\n",
       "      <td>1</td>\n",
       "      <td>0</td>\n",
       "      <td>1</td>\n",
       "      <td>3</td>\n",
       "      <td>10000</td>\n",
       "      <td>0</td>\n",
       "      <td>2</td>\n",
       "      <td>U</td>\n",
       "      <td>1</td>\n",
       "      <td>4</td>\n",
       "      <td>1</td>\n",
       "      <td>2500</td>\n",
       "      <td>Furniture</td>\n",
       "      <td>Lease</td>\n",
       "      <td>German</td>\n",
       "      <td>G</td>\n",
       "      <td>Car</td>\n",
       "      <td>No</td>\n",
       "      <td>Yes</td>\n",
       "    </tr>\n",
       "    <tr>\n",
       "      <th>1</th>\n",
       "      <td>c000000032</td>\n",
       "      <td>Bad</td>\n",
       "      <td>H</td>\n",
       "      <td>0</td>\n",
       "      <td>1</td>\n",
       "      <td>34</td>\n",
       "      <td>42.0</td>\n",
       "      <td>39.0</td>\n",
       "      <td>1</td>\n",
       "      <td>0</td>\n",
       "      <td>1</td>\n",
       "      <td>1</td>\n",
       "      <td>2400</td>\n",
       "      <td>0</td>\n",
       "      <td>1</td>\n",
       "      <td>U</td>\n",
       "      <td>1</td>\n",
       "      <td>7</td>\n",
       "      <td>1</td>\n",
       "      <td>3000</td>\n",
       "      <td>Electronics</td>\n",
       "      <td>Lease</td>\n",
       "      <td>German</td>\n",
       "      <td>NaN</td>\n",
       "      <td>Car</td>\n",
       "      <td>No</td>\n",
       "      <td>No</td>\n",
       "    </tr>\n",
       "    <tr>\n",
       "      <th>2</th>\n",
       "      <td>c000000040</td>\n",
       "      <td>Good</td>\n",
       "      <td>R</td>\n",
       "      <td>0</td>\n",
       "      <td>2</td>\n",
       "      <td>35</td>\n",
       "      <td>72.0</td>\n",
       "      <td>18.0</td>\n",
       "      <td>2</td>\n",
       "      <td>0</td>\n",
       "      <td>0</td>\n",
       "      <td>0</td>\n",
       "      <td>0</td>\n",
       "      <td>1</td>\n",
       "      <td>0</td>\n",
       "      <td>V</td>\n",
       "      <td>3</td>\n",
       "      <td>0</td>\n",
       "      <td>0</td>\n",
       "      <td>1500</td>\n",
       "      <td>Dept. Store</td>\n",
       "      <td>Lease</td>\n",
       "      <td>German</td>\n",
       "      <td>NaN</td>\n",
       "      <td>Without Vehicle</td>\n",
       "      <td>Yes</td>\n",
       "      <td>No</td>\n",
       "    </tr>\n",
       "    <tr>\n",
       "      <th>3</th>\n",
       "      <td>c000000051</td>\n",
       "      <td>Good</td>\n",
       "      <td>H</td>\n",
       "      <td>3</td>\n",
       "      <td>5</td>\n",
       "      <td>34</td>\n",
       "      <td>48.0</td>\n",
       "      <td>60.0</td>\n",
       "      <td>1</td>\n",
       "      <td>0</td>\n",
       "      <td>1</td>\n",
       "      <td>1</td>\n",
       "      <td>0</td>\n",
       "      <td>1</td>\n",
       "      <td>0</td>\n",
       "      <td>V</td>\n",
       "      <td>1</td>\n",
       "      <td>7</td>\n",
       "      <td>1</td>\n",
       "      <td>700</td>\n",
       "      <td>Dept. Store</td>\n",
       "      <td>Owner</td>\n",
       "      <td>German</td>\n",
       "      <td>C</td>\n",
       "      <td>Car</td>\n",
       "      <td>Yes</td>\n",
       "      <td>No</td>\n",
       "    </tr>\n",
       "    <tr>\n",
       "      <th>4</th>\n",
       "      <td>c000000065</td>\n",
       "      <td>Good</td>\n",
       "      <td>R</td>\n",
       "      <td>0</td>\n",
       "      <td>1</td>\n",
       "      <td>22</td>\n",
       "      <td>216.0</td>\n",
       "      <td>45.0</td>\n",
       "      <td>2</td>\n",
       "      <td>0</td>\n",
       "      <td>0</td>\n",
       "      <td>0</td>\n",
       "      <td>0</td>\n",
       "      <td>1</td>\n",
       "      <td>0</td>\n",
       "      <td>U</td>\n",
       "      <td>1</td>\n",
       "      <td>4</td>\n",
       "      <td>1</td>\n",
       "      <td>3000</td>\n",
       "      <td>Furniture</td>\n",
       "      <td>Lease</td>\n",
       "      <td>German</td>\n",
       "      <td>NaN</td>\n",
       "      <td>Car</td>\n",
       "      <td>Yes</td>\n",
       "      <td>Yes</td>\n",
       "    </tr>\n",
       "  </tbody>\n",
       "</table>\n",
       "</div>"
      ],
      "text/plain": [
       "  _customerID target title  Nchildren  Nhousehold  Age  TimeAddress  TimeJob  \\\n",
       "0  c000000028    Bad     H          1           2   26          9.0     27.0   \n",
       "1  c000000032    Bad     H          0           1   34         42.0     39.0   \n",
       "2  c000000040   Good     R          0           2   35         72.0     18.0   \n",
       "3  c000000051   Good     H          3           5   34         48.0     60.0   \n",
       "4  c000000065   Good     R          0           1   22        216.0     45.0   \n",
       "\n",
       "   tel  NumMyLoan  NumFinLoan  NumLoans  Income  EC_Card  IncLevel status  \\\n",
       "0    1          0           1         3   10000        0         2      U   \n",
       "1    1          0           1         1    2400        0         1      U   \n",
       "2    2          0           0         0       0        1         0      V   \n",
       "3    1          0           1         1       0        1         0      V   \n",
       "4    2          0           0         0       0        1         0      U   \n",
       "\n",
       "   bureau  region  regionLarge  cash      product  resid     nat prof  \\\n",
       "0       1       4            1  2500    Furniture  Lease  German    G   \n",
       "1       1       7            1  3000  Electronics  Lease  German  NaN   \n",
       "2       3       0            0  1500  Dept. Store  Lease  German  NaN   \n",
       "3       1       7            1   700  Dept. Store  Owner  German    C   \n",
       "4       1       4            1  3000    Furniture  Lease  German  NaN   \n",
       "\n",
       "               car card saving  \n",
       "0              Car   No    Yes  \n",
       "1              Car   No     No  \n",
       "2  Without Vehicle  Yes     No  \n",
       "3              Car  Yes     No  \n",
       "4              Car  Yes    Yes  "
      ]
     },
     "execution_count": 7,
     "metadata": {},
     "output_type": "execute_result"
    }
   ],
   "source": [
    "# Preview Data\n",
    "pd.set_option('display.max_columns', 500)\n",
    "credit_data.head()"
   ]
  },
  {
   "cell_type": "code",
   "execution_count": 8,
   "metadata": {},
   "outputs": [
    {
     "name": "stdout",
     "output_type": "stream",
     "text": [
      "NOTE: Cloud Analytic Services made the uploaded file available as table CREDIT_DATA in caslib credit.\n",
      "NOTE: The table CREDIT_DATA has been created in caslib credit from binary data uploaded to Cloud Analytic Services.\n"
     ]
    }
   ],
   "source": [
    "# Write Out Dataframe to CAS\n",
    "credit_data = conn.upload_frame(credit_data, casout=dict(name='credit_data', replace=True))"
   ]
  },
  {
   "cell_type": "code",
   "execution_count": 9,
   "metadata": {},
   "outputs": [
    {
     "data": {
      "text/html": [
       "<div class=\"cas-results-key\"><b>&#167; TableInfo</b></div>\n",
       "<div class=\"cas-results-body\">\n",
       "<div>\n",
       "<style scoped>\n",
       "    .dataframe tbody tr th:only-of-type {\n",
       "        vertical-align: middle;\n",
       "    }\n",
       "\n",
       "    .dataframe tbody tr th {\n",
       "        vertical-align: top;\n",
       "    }\n",
       "\n",
       "    .dataframe thead th {\n",
       "        text-align: right;\n",
       "    }\n",
       "</style>\n",
       "<table border=\"1\" class=\"dataframe\">\n",
       "  <thead>\n",
       "    <tr style=\"text-align: right;\">\n",
       "      <th title=\"\"></th>\n",
       "      <th title=\"Name\">Name</th>\n",
       "      <th title=\"Rows\">Rows</th>\n",
       "      <th title=\"Columns\">Columns</th>\n",
       "      <th title=\"Indexed Columns\">IndexedColumns</th>\n",
       "      <th title=\"Encoding\">Encoding</th>\n",
       "      <th title=\"Created\">CreateTimeFormatted</th>\n",
       "      <th title=\"Last Modified\">ModTimeFormatted</th>\n",
       "      <th title=\"Last Accessed\">AccessTimeFormatted</th>\n",
       "      <th title=\"Character Set\">JavaCharSet</th>\n",
       "      <th title=\"CreateTime\">CreateTime</th>\n",
       "      <th title=\"ModTime\">ModTime</th>\n",
       "      <th title=\"AccessTime\">AccessTime</th>\n",
       "      <th title=\"Global\">Global</th>\n",
       "      <th title=\"Repeated\">Repeated</th>\n",
       "      <th title=\"View\">View</th>\n",
       "      <th title=\"Loaded Source\">SourceName</th>\n",
       "      <th title=\"Source Caslib\">SourceCaslib</th>\n",
       "      <th title=\"Compressed\">Compressed</th>\n",
       "      <th title=\"Table Creator\">Creator</th>\n",
       "      <th title=\"Last Table Modifier\">Modifier</th>\n",
       "      <th title=\"Source Modified\">SourceModTimeFormatted</th>\n",
       "      <th title=\"SourceModTime\">SourceModTime</th>\n",
       "    </tr>\n",
       "  </thead>\n",
       "  <tbody>\n",
       "    <tr>\n",
       "      <th>0</th>\n",
       "      <td>CREDIT_DATA</td>\n",
       "      <td>156915</td>\n",
       "      <td>27</td>\n",
       "      <td>0</td>\n",
       "      <td>utf-8</td>\n",
       "      <td>2018-12-13T14:43:25+00:00</td>\n",
       "      <td>2018-12-13T14:43:25+00:00</td>\n",
       "      <td>2018-12-13T14:43:25+00:00</td>\n",
       "      <td>UTF8</td>\n",
       "      <td>1.860331e+09</td>\n",
       "      <td>1.860331e+09</td>\n",
       "      <td>1.860331e+09</td>\n",
       "      <td>0</td>\n",
       "      <td>0</td>\n",
       "      <td>0</td>\n",
       "      <td></td>\n",
       "      <td></td>\n",
       "      <td>0</td>\n",
       "      <td>sas</td>\n",
       "      <td></td>\n",
       "      <td>2018-12-13T14:43:24+00:00</td>\n",
       "      <td>1.860331e+09</td>\n",
       "    </tr>\n",
       "  </tbody>\n",
       "</table>\n",
       "</div>\n",
       "</div>\n",
       "<div class=\"cas-output-area\"></div>\n",
       "<p class=\"cas-results-performance\"><small><span class=\"cas-elapsed\">elapsed 0.000476s</span> &#183; <span class=\"cas-user\">user 5e-05s</span> &#183; <span class=\"cas-sys\">sys 4.1e-05s</span> &#183; <span class=\"cas-memory\">mem 0.68MB</span></small></p>"
      ],
      "text/plain": [
       "[TableInfo]\n",
       "\n",
       "           Name    Rows  Columns  IndexedColumns Encoding  \\\n",
       " 0  CREDIT_DATA  156915       27               0    utf-8   \n",
       " \n",
       "          CreateTimeFormatted           ModTimeFormatted  \\\n",
       " 0  2018-12-13T14:43:25+00:00  2018-12-13T14:43:25+00:00   \n",
       " \n",
       "          AccessTimeFormatted JavaCharSet    CreateTime       ModTime  \\\n",
       " 0  2018-12-13T14:43:25+00:00        UTF8  1.860331e+09  1.860331e+09   \n",
       " \n",
       "      AccessTime  Global  Repeated  View SourceName SourceCaslib  Compressed  \\\n",
       " 0  1.860331e+09       0         0     0                                   0   \n",
       " \n",
       "   Creator Modifier     SourceModTimeFormatted  SourceModTime  \n",
       " 0     sas           2018-12-13T14:43:24+00:00   1.860331e+09  \n",
       "\n",
       "+ Elapsed: 0.000476s, user: 5e-05s, sys: 4.1e-05s, mem: 0.68mb"
      ]
     },
     "execution_count": 9,
     "metadata": {},
     "output_type": "execute_result"
    }
   ],
   "source": [
    "conn.tableinfo()"
   ]
  },
  {
   "cell_type": "markdown",
   "metadata": {},
   "source": [
    "### Explore Data <a name=\"exploreData\"></a>"
   ]
  },
  {
   "cell_type": "code",
   "execution_count": 10,
   "metadata": {},
   "outputs": [
    {
     "data": {
      "text/html": [
       "<div class=\"cas-results-key\"><b>&#167; Frequency</b></div>\n",
       "<div class=\"cas-results-body\">\n",
       "<div>\n",
       "<style scoped>\n",
       "    .dataframe tbody tr th:only-of-type {\n",
       "        vertical-align: middle;\n",
       "    }\n",
       "\n",
       "    .dataframe tbody tr th {\n",
       "        vertical-align: top;\n",
       "    }\n",
       "\n",
       "    .dataframe thead th {\n",
       "        text-align: right;\n",
       "    }\n",
       "</style>\n",
       "<table border=\"1\" class=\"dataframe\"><caption>Frequency for CREDIT_DATA</caption>\n",
       "  <thead>\n",
       "    <tr style=\"text-align: right;\">\n",
       "      <th title=\"\"></th>\n",
       "      <th title=\"Analysis Variable\">Column</th>\n",
       "      <th title=\"Character Value\">CharVar</th>\n",
       "      <th title=\"Formatted Value\">FmtVar</th>\n",
       "      <th title=\"Level\">Level</th>\n",
       "      <th title=\"Frequency\">Frequency</th>\n",
       "    </tr>\n",
       "  </thead>\n",
       "  <tbody>\n",
       "    <tr>\n",
       "      <th>0</th>\n",
       "      <td>target</td>\n",
       "      <td>Bad</td>\n",
       "      <td>Bad</td>\n",
       "      <td>1</td>\n",
       "      <td>31704.0</td>\n",
       "    </tr>\n",
       "    <tr>\n",
       "      <th>1</th>\n",
       "      <td>target</td>\n",
       "      <td>Good</td>\n",
       "      <td>Good</td>\n",
       "      <td>2</td>\n",
       "      <td>125211.0</td>\n",
       "    </tr>\n",
       "  </tbody>\n",
       "</table>\n",
       "</div>\n",
       "</div>\n",
       "<div class=\"cas-output-area\"></div>\n",
       "<p class=\"cas-results-performance\"><small><span class=\"cas-elapsed\">elapsed 0.0153s</span> &#183; <span class=\"cas-user\">user 0.0946s</span> &#183; <span class=\"cas-sys\">sys 0.00392s</span> &#183; <span class=\"cas-memory\">mem 1.98MB</span></small></p>"
      ],
      "text/plain": [
       "[Frequency]\n",
       "\n",
       " Frequency for CREDIT_DATA\n",
       " \n",
       "    Column CharVar FmtVar  Level  Frequency\n",
       " 0  target     Bad    Bad      1    31704.0\n",
       " 1  target    Good   Good      2   125211.0\n",
       "\n",
       "+ Elapsed: 0.0153s, user: 0.0946s, sys: 0.00392s, mem: 1.98mb"
      ]
     },
     "execution_count": 10,
     "metadata": {},
     "output_type": "execute_result"
    }
   ],
   "source": [
    "# View Target Variable Balance\n",
    "credit_data['target'].freq()"
   ]
  },
  {
   "cell_type": "code",
   "execution_count": 11,
   "metadata": {},
   "outputs": [
    {
     "data": {
      "text/html": [
       "<div>\n",
       "<style scoped>\n",
       "    .dataframe tbody tr th:only-of-type {\n",
       "        vertical-align: middle;\n",
       "    }\n",
       "\n",
       "    .dataframe tbody tr th {\n",
       "        vertical-align: top;\n",
       "    }\n",
       "\n",
       "    .dataframe thead th {\n",
       "        text-align: right;\n",
       "    }\n",
       "</style>\n",
       "<table border=\"1\" class=\"dataframe\">\n",
       "  <thead>\n",
       "    <tr style=\"text-align: right;\">\n",
       "      <th title=\"\"></th>\n",
       "      <th title=\"Nchildren\">Nchildren</th>\n",
       "      <th title=\"Nhousehold\">Nhousehold</th>\n",
       "      <th title=\"Age\">Age</th>\n",
       "      <th title=\"TimeAddress\">TimeAddress</th>\n",
       "      <th title=\"TimeJob\">TimeJob</th>\n",
       "      <th title=\"tel\">tel</th>\n",
       "      <th title=\"NumMyLoan\">NumMyLoan</th>\n",
       "      <th title=\"NumFinLoan\">NumFinLoan</th>\n",
       "      <th title=\"NumLoans\">NumLoans</th>\n",
       "      <th title=\"Income\">Income</th>\n",
       "      <th title=\"EC_Card\">EC_Card</th>\n",
       "      <th title=\"IncLevel\">IncLevel</th>\n",
       "      <th title=\"bureau\">bureau</th>\n",
       "      <th title=\"region\">region</th>\n",
       "      <th title=\"regionLarge\">regionLarge</th>\n",
       "      <th title=\"cash\">cash</th>\n",
       "    </tr>\n",
       "  </thead>\n",
       "  <tbody>\n",
       "    <tr>\n",
       "      <th>count</th>\n",
       "      <td>156915.000000</td>\n",
       "      <td>156915.000000</td>\n",
       "      <td>156915.000000</td>\n",
       "      <td>156915.000000</td>\n",
       "      <td>156915.000000</td>\n",
       "      <td>156915.000000</td>\n",
       "      <td>156915.000000</td>\n",
       "      <td>156915.000000</td>\n",
       "      <td>156915.000000</td>\n",
       "      <td>156915.000000</td>\n",
       "      <td>156915.000000</td>\n",
       "      <td>156915.00000</td>\n",
       "      <td>156915.000000</td>\n",
       "      <td>156915.000000</td>\n",
       "      <td>156915.000000</td>\n",
       "      <td>156915.000000</td>\n",
       "    </tr>\n",
       "    <tr>\n",
       "      <th>mean</th>\n",
       "      <td>0.880878</td>\n",
       "      <td>2.483765</td>\n",
       "      <td>35.937559</td>\n",
       "      <td>92.282038</td>\n",
       "      <td>78.329280</td>\n",
       "      <td>1.354077</td>\n",
       "      <td>0.594908</td>\n",
       "      <td>0.495357</td>\n",
       "      <td>0.930211</td>\n",
       "      <td>1956.248287</td>\n",
       "      <td>0.319179</td>\n",
       "      <td>1.01778</td>\n",
       "      <td>1.741045</td>\n",
       "      <td>3.276016</td>\n",
       "      <td>0.733429</td>\n",
       "      <td>2310.432400</td>\n",
       "    </tr>\n",
       "    <tr>\n",
       "      <th>std</th>\n",
       "      <td>1.052363</td>\n",
       "      <td>1.343317</td>\n",
       "      <td>11.301323</td>\n",
       "      <td>87.014462</td>\n",
       "      <td>82.825167</td>\n",
       "      <td>0.478234</td>\n",
       "      <td>0.886872</td>\n",
       "      <td>0.499980</td>\n",
       "      <td>1.071630</td>\n",
       "      <td>1586.337523</td>\n",
       "      <td>0.466160</td>\n",
       "      <td>0.77323</td>\n",
       "      <td>0.965084</td>\n",
       "      <td>2.542618</td>\n",
       "      <td>0.442168</td>\n",
       "      <td>2673.116409</td>\n",
       "    </tr>\n",
       "    <tr>\n",
       "      <th>min</th>\n",
       "      <td>0.000000</td>\n",
       "      <td>1.000000</td>\n",
       "      <td>18.000000</td>\n",
       "      <td>0.000000</td>\n",
       "      <td>0.000000</td>\n",
       "      <td>1.000000</td>\n",
       "      <td>0.000000</td>\n",
       "      <td>0.000000</td>\n",
       "      <td>0.000000</td>\n",
       "      <td>0.000000</td>\n",
       "      <td>0.000000</td>\n",
       "      <td>0.00000</td>\n",
       "      <td>1.000000</td>\n",
       "      <td>0.000000</td>\n",
       "      <td>0.000000</td>\n",
       "      <td>0.000000</td>\n",
       "    </tr>\n",
       "    <tr>\n",
       "      <th>25%</th>\n",
       "      <td>0.000000</td>\n",
       "      <td>1.000000</td>\n",
       "      <td>27.000000</td>\n",
       "      <td>24.000000</td>\n",
       "      <td>21.000000</td>\n",
       "      <td>1.000000</td>\n",
       "      <td>0.000000</td>\n",
       "      <td>0.000000</td>\n",
       "      <td>0.000000</td>\n",
       "      <td>0.000000</td>\n",
       "      <td>0.000000</td>\n",
       "      <td>0.00000</td>\n",
       "      <td>1.000000</td>\n",
       "      <td>0.000000</td>\n",
       "      <td>0.000000</td>\n",
       "      <td>1000.000000</td>\n",
       "    </tr>\n",
       "    <tr>\n",
       "      <th>50%</th>\n",
       "      <td>1.000000</td>\n",
       "      <td>2.000000</td>\n",
       "      <td>34.000000</td>\n",
       "      <td>60.000000</td>\n",
       "      <td>45.000000</td>\n",
       "      <td>1.000000</td>\n",
       "      <td>0.000000</td>\n",
       "      <td>0.000000</td>\n",
       "      <td>1.000000</td>\n",
       "      <td>2100.000000</td>\n",
       "      <td>0.000000</td>\n",
       "      <td>1.00000</td>\n",
       "      <td>1.000000</td>\n",
       "      <td>3.000000</td>\n",
       "      <td>1.000000</td>\n",
       "      <td>1500.000000</td>\n",
       "    </tr>\n",
       "    <tr>\n",
       "      <th>75%</th>\n",
       "      <td>2.000000</td>\n",
       "      <td>3.000000</td>\n",
       "      <td>43.000000</td>\n",
       "      <td>144.000000</td>\n",
       "      <td>108.000000</td>\n",
       "      <td>2.000000</td>\n",
       "      <td>2.000000</td>\n",
       "      <td>1.000000</td>\n",
       "      <td>1.000000</td>\n",
       "      <td>2800.000000</td>\n",
       "      <td>1.000000</td>\n",
       "      <td>2.00000</td>\n",
       "      <td>3.000000</td>\n",
       "      <td>5.000000</td>\n",
       "      <td>1.000000</td>\n",
       "      <td>2500.000000</td>\n",
       "    </tr>\n",
       "    <tr>\n",
       "      <th>max</th>\n",
       "      <td>6.000000</td>\n",
       "      <td>8.000000</td>\n",
       "      <td>72.000000</td>\n",
       "      <td>384.000000</td>\n",
       "      <td>360.000000</td>\n",
       "      <td>2.000000</td>\n",
       "      <td>2.000000</td>\n",
       "      <td>1.000000</td>\n",
       "      <td>9.000000</td>\n",
       "      <td>10000.000000</td>\n",
       "      <td>1.000000</td>\n",
       "      <td>2.00000</td>\n",
       "      <td>3.000000</td>\n",
       "      <td>9.000000</td>\n",
       "      <td>1.000000</td>\n",
       "      <td>20000.000000</td>\n",
       "    </tr>\n",
       "  </tbody>\n",
       "</table>\n",
       "</div>"
      ],
      "text/plain": [
       "           Nchildren     Nhousehold            Age    TimeAddress  \\\n",
       "count  156915.000000  156915.000000  156915.000000  156915.000000   \n",
       "mean        0.880878       2.483765      35.937559      92.282038   \n",
       "std         1.052363       1.343317      11.301323      87.014462   \n",
       "min         0.000000       1.000000      18.000000       0.000000   \n",
       "25%         0.000000       1.000000      27.000000      24.000000   \n",
       "50%         1.000000       2.000000      34.000000      60.000000   \n",
       "75%         2.000000       3.000000      43.000000     144.000000   \n",
       "max         6.000000       8.000000      72.000000     384.000000   \n",
       "\n",
       "             TimeJob            tel      NumMyLoan     NumFinLoan  \\\n",
       "count  156915.000000  156915.000000  156915.000000  156915.000000   \n",
       "mean       78.329280       1.354077       0.594908       0.495357   \n",
       "std        82.825167       0.478234       0.886872       0.499980   \n",
       "min         0.000000       1.000000       0.000000       0.000000   \n",
       "25%        21.000000       1.000000       0.000000       0.000000   \n",
       "50%        45.000000       1.000000       0.000000       0.000000   \n",
       "75%       108.000000       2.000000       2.000000       1.000000   \n",
       "max       360.000000       2.000000       2.000000       1.000000   \n",
       "\n",
       "            NumLoans         Income        EC_Card      IncLevel  \\\n",
       "count  156915.000000  156915.000000  156915.000000  156915.00000   \n",
       "mean        0.930211    1956.248287       0.319179       1.01778   \n",
       "std         1.071630    1586.337523       0.466160       0.77323   \n",
       "min         0.000000       0.000000       0.000000       0.00000   \n",
       "25%         0.000000       0.000000       0.000000       0.00000   \n",
       "50%         1.000000    2100.000000       0.000000       1.00000   \n",
       "75%         1.000000    2800.000000       1.000000       2.00000   \n",
       "max         9.000000   10000.000000       1.000000       2.00000   \n",
       "\n",
       "              bureau         region    regionLarge           cash  \n",
       "count  156915.000000  156915.000000  156915.000000  156915.000000  \n",
       "mean        1.741045       3.276016       0.733429    2310.432400  \n",
       "std         0.965084       2.542618       0.442168    2673.116409  \n",
       "min         1.000000       0.000000       0.000000       0.000000  \n",
       "25%         1.000000       0.000000       0.000000    1000.000000  \n",
       "50%         1.000000       3.000000       1.000000    1500.000000  \n",
       "75%         3.000000       5.000000       1.000000    2500.000000  \n",
       "max         3.000000       9.000000       1.000000   20000.000000  "
      ]
     },
     "execution_count": 11,
     "metadata": {},
     "output_type": "execute_result"
    }
   ],
   "source": [
    "# Numeric Variables Summary\n",
    "conn.CASTable('credit_data').describe()"
   ]
  },
  {
   "cell_type": "code",
   "execution_count": 12,
   "metadata": {},
   "outputs": [
    {
     "data": {
      "image/png": "[encoded data removed]",
      "text/plain": [
       "<Figure size 1440x1440 with 16 Axes>"
      ]
     },
     "metadata": {},
     "output_type": "display_data"
    }
   ],
   "source": [
    "# Visualize Numeric Variable Distributions\n",
    "credit_data.hist(figsize = (20, 20));"
   ]
  },
  {
   "cell_type": "markdown",
   "metadata": {},
   "source": [
    "### Begin Modeling <a name=\"beginModel\"></a>"
   ]
  },
  {
   "cell_type": "markdown",
   "metadata": {},
   "source": [
    "<a name=\"woe\"></a>"
   ]
  },
  {
   "cell_type": "markdown",
   "metadata": {},
   "source": [
    "<div class=\"alert alert-info\">\n",
    "<b>Transformations, Weight of Evidence, & Information Value</b>\n",
    "</div>"
   ]
  },
  {
   "cell_type": "code",
   "execution_count": 13,
   "metadata": {},
   "outputs": [
    {
     "name": "stdout",
     "output_type": "stream",
     "text": [
      "NOTE: Added action set 'regression'.\n",
      "NOTE: Added action set 'dataPreprocess'.\n"
     ]
    }
   ],
   "source": [
    "# Load Regression Action Set\n",
    "conn.loadactionset(actionset='regression')\n",
    "conn.loadactionset(actionset='dataPreprocess');"
   ]
  },
  {
   "cell_type": "code",
   "execution_count": 14,
   "metadata": {
    "collapsed": true
   },
   "outputs": [],
   "source": [
    "# Set Up Inputs and Target\n",
    "nominal_inputs = ['title', 'status', 'product', 'resid', 'nat', 'prof', 'car', 'G_Card', 'saving']\n",
    "cont_inputs = ['Nchildren', 'Nhousehold', 'Age', 'TimeAddress', 'TimeJob', 'tel', 'NumMyLoan', 'NumFinLoan',\n",
    "               'NumLoans', 'Income', 'EC_Card', 'IncLevel', 'bureau', 'region', 'regionLarge', 'cash']\n",
    "target = 'target'"
   ]
  },
  {
   "cell_type": "markdown",
   "metadata": {},
   "source": [
    "#### Set up Weight of Evidence Transform"
   ]
  },
  {
   "cell_type": "code",
   "execution_count": 15,
   "metadata": {
    "collapsed": true
   },
   "outputs": [],
   "source": [
    "# Transform Pipeline\n",
    "req_packs = []\n",
    "\n",
    "req_pack1 = dict(name='req_intervals',\n",
    "                inputs=cont_inputs,\n",
    "                targets=target,\n",
    "                events='Bad',\n",
    "                discretize=dict(method='woe',\n",
    "                                args = dict(minNBins=3, maxNBins=7)),\n",
    "                output=dict(scoreWOE=True))\n",
    "\n",
    "req_pack2 = dict(name='req_nominals',\n",
    "                inputs=nominal_inputs,\n",
    "                targets=target,\n",
    "                events='Bad',\n",
    "                cattrans=dict(method='woe',\n",
    "                              args=dict(minNBins=3, maxNBins=7)),\n",
    "                output=dict(scoreWOE=True))\n",
    "\n",
    "req_packs.append(req_pack1)\n",
    "req_packs.append(req_pack2)"
   ]
  },
  {
   "cell_type": "code",
   "execution_count": 16,
   "metadata": {
    "collapsed": true
   },
   "outputs": [],
   "source": [
    "# Transform\n",
    "woe_transform = conn.transform(table=credit_data,\n",
    "                               requestPackages=req_packs, \n",
    "                               casOut=dict(name='woe_transform', replace=True),\n",
    "                               code = dict(casout=dict(name='woe_code', replace=True)),\n",
    "                               copyVars = ['target', '_customerID'],\n",
    "                               outVarsNameGlobalPrefix='woe');"
   ]
  },
  {
   "cell_type": "code",
   "execution_count": null,
   "metadata": {},
   "outputs": [],
   "source": [
    "def calculate_woe_iv(woe_transform, feature, target):\n",
    "    lst = [woe_transform]\n",
    "    for i in range(woe_transform[feature].nunique()):\n",
    "        val = list(woe_transform[feature].unique())[i]\n",
    "        lst.append({\n",
    "            'Value': val,\n",
    "            'All': dataset[woe_transform[feature] == val].count()[feature],\n",
    "            'Good': dataset[(woe_transform[feature] == val) & (woe_transform[target] == 0)].count()[feature],\n",
    "            'Bad': dataset[(woe_transform[feature] == val) & (woe_transform[target] == 1)].count()[feature]\n",
    "        })\n",
    "        \n",
    "    dset = pd.DataFrame(lst)\n",
    "    dset['Distr_Good'] = dset['Good'] / dset['Good'].sum()\n",
    "    dset['Distr_Bad'] = dset['Bad'] / dset['Bad'].sum()\n",
    "    dset['WoE'] = np.log(dset['Distr_Good'] / dset['Distr_Bad'])\n",
    "    dset = dset.replace({'WoE': {np.inf: 0, -np.inf: 0}})\n",
    "    dset['IV'] = (dset['Distr_Good'] - dset['Distr_Bad']) * dset['WoE']\n",
    "    iv = dset['IV'].sum()\n",
    "    \n",
    "    woe_transform = dset.sort_values(by='WoE')"
   ]
  },
  {
   "cell_type": "code",
   "execution_count": 17,
   "metadata": {},
   "outputs": [
    {
     "data": {
      "text/html": [
       "<div>\n",
       "<style scoped>\n",
       "    .dataframe tbody tr th:only-of-type {\n",
       "        vertical-align: middle;\n",
       "    }\n",
       "\n",
       "    .dataframe tbody tr th {\n",
       "        vertical-align: top;\n",
       "    }\n",
       "\n",
       "    .dataframe thead th {\n",
       "        text-align: right;\n",
       "    }\n",
       "</style>\n",
       "<table border=\"1\" class=\"dataframe\"><caption>Selected Rows from Table WOE_TRANSFORM</caption>\n",
       "  <thead>\n",
       "    <tr style=\"text-align: right;\">\n",
       "      <th title=\"\"></th>\n",
       "      <th title=\"target\">target</th>\n",
       "      <th title=\"_customerID\">_customerID</th>\n",
       "      <th title=\"woe_Age\">woe_Age</th>\n",
       "      <th title=\"woe_bureau\">woe_bureau</th>\n",
       "      <th title=\"woe_cash\">woe_cash</th>\n",
       "      <th title=\"woe_EC_Card\">woe_EC_Card</th>\n",
       "      <th title=\"woe_IncLevel\">woe_IncLevel</th>\n",
       "      <th title=\"woe_Income\">woe_Income</th>\n",
       "      <th title=\"woe_Nchildren\">woe_Nchildren</th>\n",
       "      <th title=\"woe_Nhousehold\">woe_Nhousehold</th>\n",
       "      <th title=\"woe_NumFinLoan\">woe_NumFinLoan</th>\n",
       "      <th title=\"woe_NumLoans\">woe_NumLoans</th>\n",
       "      <th title=\"woe_NumMyLoan\">woe_NumMyLoan</th>\n",
       "      <th title=\"woe_region\">woe_region</th>\n",
       "      <th title=\"woe_regionLarge\">woe_regionLarge</th>\n",
       "      <th title=\"woe_tel\">woe_tel</th>\n",
       "      <th title=\"woe_TimeAddress\">woe_TimeAddress</th>\n",
       "      <th title=\"woe_TimeJob\">woe_TimeJob</th>\n",
       "      <th title=\"woe_car\">woe_car</th>\n",
       "      <th title=\"woe_card\">woe_card</th>\n",
       "      <th title=\"woe_nat\">woe_nat</th>\n",
       "      <th title=\"woe_product\">woe_product</th>\n",
       "      <th title=\"woe_prof\">woe_prof</th>\n",
       "      <th title=\"woe_resid\">woe_resid</th>\n",
       "      <th title=\"woe_saving\">woe_saving</th>\n",
       "      <th title=\"woe_status\">woe_status</th>\n",
       "      <th title=\"woe_title\">woe_title</th>\n",
       "    </tr>\n",
       "  </thead>\n",
       "  <tbody>\n",
       "    <tr>\n",
       "      <th>0</th>\n",
       "      <td>Good</td>\n",
       "      <td>c000313007</td>\n",
       "      <td>-1.122775</td>\n",
       "      <td>0.089431</td>\n",
       "      <td>-0.342228</td>\n",
       "      <td>-0.214584</td>\n",
       "      <td>-0.432184</td>\n",
       "      <td>-0.238071</td>\n",
       "      <td>-0.223703</td>\n",
       "      <td>-0.536068</td>\n",
       "      <td>-0.115021</td>\n",
       "      <td>0.049761</td>\n",
       "      <td>-0.081022</td>\n",
       "      <td>-0.046023</td>\n",
       "      <td>-0.052918</td>\n",
       "      <td>0.067595</td>\n",
       "      <td>-0.064647</td>\n",
       "      <td>-0.583998</td>\n",
       "      <td>-0.388738</td>\n",
       "      <td>-0.260065</td>\n",
       "      <td>0.139282</td>\n",
       "      <td>-0.115595</td>\n",
       "      <td>NaN</td>\n",
       "      <td>-0.022113</td>\n",
       "      <td>-0.007078</td>\n",
       "      <td>-0.627565</td>\n",
       "      <td>-0.033008</td>\n",
       "    </tr>\n",
       "    <tr>\n",
       "      <th>1</th>\n",
       "      <td>Good</td>\n",
       "      <td>c000313013</td>\n",
       "      <td>-0.595045</td>\n",
       "      <td>-0.038464</td>\n",
       "      <td>0.085037</td>\n",
       "      <td>-0.214584</td>\n",
       "      <td>0.164962</td>\n",
       "      <td>-0.027397</td>\n",
       "      <td>-0.223703</td>\n",
       "      <td>0.333864</td>\n",
       "      <td>0.125904</td>\n",
       "      <td>-0.034920</td>\n",
       "      <td>-0.347649</td>\n",
       "      <td>-0.046023</td>\n",
       "      <td>-0.052918</td>\n",
       "      <td>0.067595</td>\n",
       "      <td>-0.020547</td>\n",
       "      <td>0.020216</td>\n",
       "      <td>0.106343</td>\n",
       "      <td>-0.260065</td>\n",
       "      <td>0.139282</td>\n",
       "      <td>-0.115595</td>\n",
       "      <td>-0.316603</td>\n",
       "      <td>-0.022113</td>\n",
       "      <td>0.009154</td>\n",
       "      <td>0.390124</td>\n",
       "      <td>-0.033008</td>\n",
       "    </tr>\n",
       "    <tr>\n",
       "      <th>2</th>\n",
       "      <td>Bad</td>\n",
       "      <td>c000313020</td>\n",
       "      <td>-1.122775</td>\n",
       "      <td>-0.038464</td>\n",
       "      <td>-0.342228</td>\n",
       "      <td>-0.214584</td>\n",
       "      <td>-0.432184</td>\n",
       "      <td>-0.783027</td>\n",
       "      <td>-0.223703</td>\n",
       "      <td>-0.536068</td>\n",
       "      <td>-0.115021</td>\n",
       "      <td>0.034676</td>\n",
       "      <td>-0.081022</td>\n",
       "      <td>-0.106657</td>\n",
       "      <td>-0.052918</td>\n",
       "      <td>0.067595</td>\n",
       "      <td>-0.100103</td>\n",
       "      <td>0.020216</td>\n",
       "      <td>-0.388738</td>\n",
       "      <td>-0.260065</td>\n",
       "      <td>-0.018781</td>\n",
       "      <td>0.067617</td>\n",
       "      <td>-0.160789</td>\n",
       "      <td>NaN</td>\n",
       "      <td>-0.007078</td>\n",
       "      <td>-0.627565</td>\n",
       "      <td>0.085426</td>\n",
       "    </tr>\n",
       "    <tr>\n",
       "      <th>3</th>\n",
       "      <td>Good</td>\n",
       "      <td>c000313025</td>\n",
       "      <td>1.314781</td>\n",
       "      <td>-0.038464</td>\n",
       "      <td>-0.044661</td>\n",
       "      <td>0.585838</td>\n",
       "      <td>0.617950</td>\n",
       "      <td>0.678946</td>\n",
       "      <td>-0.223703</td>\n",
       "      <td>0.333864</td>\n",
       "      <td>-0.115021</td>\n",
       "      <td>0.034676</td>\n",
       "      <td>-0.081022</td>\n",
       "      <td>-0.106657</td>\n",
       "      <td>-0.052918</td>\n",
       "      <td>0.067595</td>\n",
       "      <td>0.316728</td>\n",
       "      <td>-0.306499</td>\n",
       "      <td>0.106343</td>\n",
       "      <td>0.668017</td>\n",
       "      <td>-0.018781</td>\n",
       "      <td>0.194776</td>\n",
       "      <td>NaN</td>\n",
       "      <td>-0.022113</td>\n",
       "      <td>-0.007078</td>\n",
       "      <td>0.390124</td>\n",
       "      <td>-0.033008</td>\n",
       "    </tr>\n",
       "    <tr>\n",
       "      <th>4</th>\n",
       "      <td>Good</td>\n",
       "      <td>c000313037</td>\n",
       "      <td>0.143014</td>\n",
       "      <td>-0.038464</td>\n",
       "      <td>0.451330</td>\n",
       "      <td>-0.214584</td>\n",
       "      <td>-0.432184</td>\n",
       "      <td>-0.157973</td>\n",
       "      <td>-0.223703</td>\n",
       "      <td>0.333864</td>\n",
       "      <td>0.125904</td>\n",
       "      <td>0.049761</td>\n",
       "      <td>0.302566</td>\n",
       "      <td>0.133356</td>\n",
       "      <td>-0.052918</td>\n",
       "      <td>0.067595</td>\n",
       "      <td>-0.427055</td>\n",
       "      <td>0.358676</td>\n",
       "      <td>0.106343</td>\n",
       "      <td>-0.260065</td>\n",
       "      <td>0.139282</td>\n",
       "      <td>0.194776</td>\n",
       "      <td>NaN</td>\n",
       "      <td>-0.022113</td>\n",
       "      <td>0.009154</td>\n",
       "      <td>0.390124</td>\n",
       "      <td>-0.033008</td>\n",
       "    </tr>\n",
       "  </tbody>\n",
       "</table>\n",
       "</div>"
      ],
      "text/plain": [
       "Selected Rows from Table WOE_TRANSFORM\n",
       "\n",
       "  target _customerID   woe_Age  woe_bureau  woe_cash  woe_EC_Card  \\\n",
       "0   Good  c000313007 -1.122775    0.089431 -0.342228    -0.214584   \n",
       "1   Good  c000313013 -0.595045   -0.038464  0.085037    -0.214584   \n",
       "2    Bad  c000313020 -1.122775   -0.038464 -0.342228    -0.214584   \n",
       "3   Good  c000313025  1.314781   -0.038464 -0.044661     0.585838   \n",
       "4   Good  c000313037  0.143014   -0.038464  0.451330    -0.214584   \n",
       "\n",
       "   woe_IncLevel  woe_Income  woe_Nchildren  woe_Nhousehold  woe_NumFinLoan  \\\n",
       "0     -0.432184   -0.238071      -0.223703       -0.536068       -0.115021   \n",
       "1      0.164962   -0.027397      -0.223703        0.333864        0.125904   \n",
       "2     -0.432184   -0.783027      -0.223703       -0.536068       -0.115021   \n",
       "3      0.617950    0.678946      -0.223703        0.333864       -0.115021   \n",
       "4     -0.432184   -0.157973      -0.223703        0.333864        0.125904   \n",
       "\n",
       "   woe_NumLoans  woe_NumMyLoan  woe_region  woe_regionLarge   woe_tel  \\\n",
       "0      0.049761      -0.081022   -0.046023        -0.052918  0.067595   \n",
       "1     -0.034920      -0.347649   -0.046023        -0.052918  0.067595   \n",
       "2      0.034676      -0.081022   -0.106657        -0.052918  0.067595   \n",
       "3      0.034676      -0.081022   -0.106657        -0.052918  0.067595   \n",
       "4      0.049761       0.302566    0.133356        -0.052918  0.067595   \n",
       "\n",
       "   woe_TimeAddress  woe_TimeJob   woe_car  woe_card   woe_nat  woe_product  \\\n",
       "0        -0.064647    -0.583998 -0.388738 -0.260065  0.139282    -0.115595   \n",
       "1        -0.020547     0.020216  0.106343 -0.260065  0.139282    -0.115595   \n",
       "2        -0.100103     0.020216 -0.388738 -0.260065 -0.018781     0.067617   \n",
       "3         0.316728    -0.306499  0.106343  0.668017 -0.018781     0.194776   \n",
       "4        -0.427055     0.358676  0.106343 -0.260065  0.139282     0.194776   \n",
       "\n",
       "   woe_prof  woe_resid  woe_saving  woe_status  woe_title  \n",
       "0       NaN  -0.022113   -0.007078   -0.627565  -0.033008  \n",
       "1 -0.316603  -0.022113    0.009154    0.390124  -0.033008  \n",
       "2 -0.160789        NaN   -0.007078   -0.627565   0.085426  \n",
       "3       NaN  -0.022113   -0.007078    0.390124  -0.033008  \n",
       "4       NaN  -0.022113    0.009154    0.390124  -0.033008  "
      ]
     },
     "execution_count": 17,
     "metadata": {},
     "output_type": "execute_result"
    }
   ],
   "source": [
    "# preview Weights Table\n",
    "conn.CASTable('woe_transform').head(n=5)"
   ]
  },
  {
   "cell_type": "markdown",
   "metadata": {},
   "source": [
    "#### View Information Values and Predictive Power of Features"
   ]
  },
  {
   "cell_type": "code",
   "execution_count": 18,
   "metadata": {
    "collapsed": true
   },
   "outputs": [],
   "source": [
    "# Information Value (IV) to Determine Predictive Features\n",
    "var_info_df = pd.DataFrame(woe_transform['VarTransInfo'])\n",
    "var_info_df.sort_values(by=['IV'], ascending=True, inplace=True)"
   ]
  },
  {
   "cell_type": "code",
   "execution_count": 19,
   "metadata": {
    "scrolled": true
   },
   "outputs": [
    {
     "data": {
      "image/png": "[encoded data removed]",
      "text/plain": [
       "<Figure size 1152x576 with 1 Axes>"
      ]
     },
     "metadata": {},
     "output_type": "display_data"
    }
   ],
   "source": [
    "# Plot IV\n",
    "plt.figure(figsize=(16,8))\n",
    "plt.barh(var_info_df['Variable'], var_info_df['IV'], color = '#317DC2')\n",
    "plt.xlabel('Information Value')\n",
    "plt.title('Information Value by Features', fontweight=\"bold\");"
   ]
  },
  {
   "cell_type": "code",
   "execution_count": 1,
   "metadata": {},
   "outputs": [],
   "source": [
    "import seaborn as sns\n",
    "import matplotlib.pyplot as plt"
   ]
  },
  {
   "cell_type": "code",
   "execution_count": null,
   "metadata": {},
   "outputs": [],
   "source": [
    "sns.heatmap(credit_data.corr(), annot = True, vmin=0, vmax=1)\n",
    "correlations = credit_data.corr()['TARGET'].sort_values()\n",
    "correlations.head(7)\n",
    "plt.title('All Correlations');"
   ]
  },
  {
   "cell_type": "code",
   "execution_count": 11,
   "metadata": {},
   "outputs": [
    {
     "data": {
      "image/jpeg": "[encoded data removed]",
      "text/plain": [
       "<IPython.core.display.Image object>"
      ]
     },
     "execution_count": 11,
     "metadata": {},
     "output_type": "execute_result"
    }
   ],
   "source": [
    "from IPython.display import Image\n",
    "Image('corr.jpg')"
   ]
  },
  {
   "cell_type": "markdown",
   "metadata": {},
   "source": [
    "#### View WOE Values by Bin for Several Features"
   ]
  },
  {
   "cell_type": "code",
   "execution_count": 20,
   "metadata": {
    "collapsed": true
   },
   "outputs": [],
   "source": [
    "# Write Out CAS Table to Pandas Dataframe\n",
    "woe_transform_df = conn.fetch(table='woe_transform', maxrows=len(credit_data), to=len(credit_data))\n",
    "woe_transform_df = pd.DataFrame(woe_transform_df['Fetch'])"
   ]
  },
  {
   "cell_type": "code",
   "execution_count": 21,
   "metadata": {
    "collapsed": true
   },
   "outputs": [],
   "source": [
    "# Convert Bin Details to Pandas DF for Plotting\n",
    "woe_bin_df = pd.DataFrame(woe_transform['BinDetails'])\n",
    "\n",
    "# Time on Job DF\n",
    "woe_bin_toj = woe_bin_df[woe_bin_df['Variable']=='TimeJob']\n",
    "woe_bin_age = woe_bin_df[woe_bin_df['Variable']=='Age']\n",
    "woe_bin_cash = woe_bin_df[woe_bin_df['Variable']=='cash']\n",
    "woe_bin_prof = woe_bin_df[woe_bin_df['Variable']=='prof']"
   ]
  },
  {
   "cell_type": "code",
   "execution_count": 22,
   "metadata": {},
   "outputs": [
    {
     "data": {
      "image/png": "[encoded data removed]",
      "text/plain": [
       "<Figure size 1440x504 with 4 Axes>"
      ]
     },
     "metadata": {},
     "output_type": "display_data"
    }
   ],
   "source": [
    "# Plot Examples -  WoE value is a measure of the \"strength” of a grouping for separating good and bad credit\n",
    "plt.figure(figsize=(20,7))\n",
    "plt.subplots_adjust(hspace=.4)\n",
    "\n",
    "plt.subplot(2, 2, 1)\n",
    "plt.bar(woe_bin_cash['BinId'], woe_bin_cash['WOE'], color = '#317DC2')\n",
    "plt.title('WOE: Cash Group Wise Trend', fontweight=\"bold\")\n",
    "plt.xlabel('Cash Bins')\n",
    "plt.ylabel('WOE Value')\n",
    "\n",
    "plt.subplot(2, 2, 2)\n",
    "plt.bar(woe_bin_age['BinId'], woe_bin_age['WOE'], color = '#317DC2')\n",
    "plt.title('WOE: Age Group Wise Trend', fontweight=\"bold\")\n",
    "plt.xlabel('Age Bins')\n",
    "plt.ylabel('WOE Value')\n",
    "\n",
    "plt.subplot(2, 2, 3)\n",
    "plt.bar(woe_bin_prof['BinId'], woe_bin_prof['WOE'], color = '#317DC2')\n",
    "plt.title('WOE: Profession Group Wise Trend', fontweight=\"bold\")\n",
    "plt.xlabel('Profession Bins')\n",
    "plt.ylabel('WOE Value')\n",
    "\n",
    "plt.subplot(2, 2, 4)\n",
    "plt.bar(woe_bin_toj['BinId'], woe_bin_toj['WOE'], color = '#317DC2')\n",
    "plt.title('WOE: Time at Job Group Wise Trend', fontweight=\"bold\")\n",
    "plt.xlabel('Time at Job Bins')\n",
    "plt.ylabel('WOE Value');"
   ]
  },
  {
   "cell_type": "markdown",
   "metadata": {},
   "source": [
    "<a name=\"lr\"></a>"
   ]
  },
  {
   "cell_type": "markdown",
   "metadata": {},
   "source": [
    "<div class=\"alert alert-info\">\n",
    "<b>Logistic Regression</b>\n",
    "</div>"
   ]
  },
  {
   "cell_type": "code",
   "execution_count": 23,
   "metadata": {
    "collapsed": true
   },
   "outputs": [],
   "source": [
    "# Set Empty CAS Table For Model Results\n",
    "lr_woe_model = conn.CASTable(\"lr_woe_model\",replace = True)"
   ]
  },
  {
   "cell_type": "code",
   "execution_count": 25,
   "metadata": {},
   "outputs": [
    {
     "name": "stdout",
     "output_type": "stream",
     "text": [
      "NOTE: Convergence criterion (GCONV=1E-8) satisfied.\n"
     ]
    }
   ],
   "source": [
    "# Concat 'woe_' with Column Names for Inputs\n",
    "woe_inputs = ['woe_' + str(col)  for col in credit_data.columns[2:]]\n",
    "\n",
    "lr_woe_model = conn.logistic(table = 'woe_transform',\n",
    "                             model = dict(depvar=[dict(name=target,\n",
    "                                                       options=dict(ref='Good'))],\n",
    "                                          effects=woe_inputs),\n",
    "                             selection = dict(method='FORWARD'),\n",
    "                             store = dict(name='my_lr_Model', replace=True),\n",
    "                             code = dict(casout=dict(name='lr_code', replace=True)),\n",
    "                             output = dict(casOut=dict(name='lr_woe_model', replace=True),\n",
    "                                           copyVars=['target', '_customerID'], predprobs=True))"
   ]
  },
  {
   "cell_type": "markdown",
   "metadata": {},
   "source": [
    "<a name=\"scorecard\"></a>"
   ]
  },
  {
   "cell_type": "markdown",
   "metadata": {},
   "source": [
    "<div class=\"alert alert-info\">\n",
    "<b>Scorecard</b>\n",
    "</div>"
   ]
  },
  {
   "cell_type": "code",
   "execution_count": 26,
   "metadata": {
    "collapsed": true
   },
   "outputs": [],
   "source": [
    "# Parameter Table from Logistic Regression\n",
    "lr_woe_mod_params = pd.DataFrame(lr_woe_model['SelectedModel.ParameterEstimates'])\n",
    "lr_woe_mod_params = lr_woe_mod_params[['Parameter','Estimate']]\n",
    "\n",
    "# Intercept\n",
    "intercept = lr_woe_mod_params['Estimate'][0]\n",
    "\n",
    "# Drop Intercept\n",
    "lr_woe_mod_params = lr_woe_mod_params[lr_woe_mod_params['Parameter'] != 'Intercept']"
   ]
  },
  {
   "cell_type": "code",
   "execution_count": 27,
   "metadata": {
    "collapsed": true
   },
   "outputs": [],
   "source": [
    "# Fill NA Values with Zero\n",
    "woe_transform_df = woe_transform_df.fillna(0)"
   ]
  },
  {
   "cell_type": "code",
   "execution_count": 28,
   "metadata": {},
   "outputs": [
    {
     "data": {
      "text/html": [
       "<div>\n",
       "<style scoped>\n",
       "    .dataframe tbody tr th:only-of-type {\n",
       "        vertical-align: middle;\n",
       "    }\n",
       "\n",
       "    .dataframe tbody tr th {\n",
       "        vertical-align: top;\n",
       "    }\n",
       "\n",
       "    .dataframe thead th {\n",
       "        text-align: right;\n",
       "    }\n",
       "</style>\n",
       "<table border=\"1\" class=\"dataframe\">\n",
       "  <thead>\n",
       "    <tr style=\"text-align: right;\">\n",
       "      <th></th>\n",
       "      <th>target</th>\n",
       "      <th>_customerID</th>\n",
       "      <th>woe_Age</th>\n",
       "      <th>woe_bureau</th>\n",
       "      <th>woe_cash</th>\n",
       "      <th>woe_EC_Card</th>\n",
       "      <th>woe_IncLevel</th>\n",
       "      <th>woe_Income</th>\n",
       "      <th>woe_Nchildren</th>\n",
       "      <th>woe_Nhousehold</th>\n",
       "      <th>woe_NumFinLoan</th>\n",
       "      <th>woe_NumLoans</th>\n",
       "      <th>woe_NumMyLoan</th>\n",
       "      <th>woe_region</th>\n",
       "      <th>woe_regionLarge</th>\n",
       "      <th>woe_tel</th>\n",
       "      <th>woe_TimeAddress</th>\n",
       "      <th>woe_TimeJob</th>\n",
       "      <th>woe_car</th>\n",
       "      <th>woe_card</th>\n",
       "      <th>woe_nat</th>\n",
       "      <th>woe_product</th>\n",
       "      <th>woe_prof</th>\n",
       "      <th>woe_resid</th>\n",
       "      <th>woe_saving</th>\n",
       "      <th>woe_status</th>\n",
       "      <th>woe_title</th>\n",
       "    </tr>\n",
       "  </thead>\n",
       "  <tbody>\n",
       "    <tr>\n",
       "      <th>0</th>\n",
       "      <td>Good</td>\n",
       "      <td>c000313007</td>\n",
       "      <td>-1.122775</td>\n",
       "      <td>0.089431</td>\n",
       "      <td>-0.342228</td>\n",
       "      <td>-0.214584</td>\n",
       "      <td>-0.432184</td>\n",
       "      <td>-0.238071</td>\n",
       "      <td>-0.223703</td>\n",
       "      <td>-0.536068</td>\n",
       "      <td>-0.115021</td>\n",
       "      <td>0.049761</td>\n",
       "      <td>-0.081022</td>\n",
       "      <td>-0.046023</td>\n",
       "      <td>-0.052918</td>\n",
       "      <td>0.067595</td>\n",
       "      <td>-0.064647</td>\n",
       "      <td>-0.583998</td>\n",
       "      <td>-0.388738</td>\n",
       "      <td>-0.260065</td>\n",
       "      <td>0.139282</td>\n",
       "      <td>-0.115595</td>\n",
       "      <td>0.000000</td>\n",
       "      <td>-0.022113</td>\n",
       "      <td>-0.007078</td>\n",
       "      <td>-0.627565</td>\n",
       "      <td>-0.033008</td>\n",
       "    </tr>\n",
       "    <tr>\n",
       "      <th>1</th>\n",
       "      <td>Good</td>\n",
       "      <td>c000313013</td>\n",
       "      <td>-0.595045</td>\n",
       "      <td>-0.038464</td>\n",
       "      <td>0.085037</td>\n",
       "      <td>-0.214584</td>\n",
       "      <td>0.164962</td>\n",
       "      <td>-0.027397</td>\n",
       "      <td>-0.223703</td>\n",
       "      <td>0.333864</td>\n",
       "      <td>0.125904</td>\n",
       "      <td>-0.034920</td>\n",
       "      <td>-0.347649</td>\n",
       "      <td>-0.046023</td>\n",
       "      <td>-0.052918</td>\n",
       "      <td>0.067595</td>\n",
       "      <td>-0.020547</td>\n",
       "      <td>0.020216</td>\n",
       "      <td>0.106343</td>\n",
       "      <td>-0.260065</td>\n",
       "      <td>0.139282</td>\n",
       "      <td>-0.115595</td>\n",
       "      <td>-0.316603</td>\n",
       "      <td>-0.022113</td>\n",
       "      <td>0.009154</td>\n",
       "      <td>0.390124</td>\n",
       "      <td>-0.033008</td>\n",
       "    </tr>\n",
       "    <tr>\n",
       "      <th>2</th>\n",
       "      <td>Bad</td>\n",
       "      <td>c000313020</td>\n",
       "      <td>-1.122775</td>\n",
       "      <td>-0.038464</td>\n",
       "      <td>-0.342228</td>\n",
       "      <td>-0.214584</td>\n",
       "      <td>-0.432184</td>\n",
       "      <td>-0.783027</td>\n",
       "      <td>-0.223703</td>\n",
       "      <td>-0.536068</td>\n",
       "      <td>-0.115021</td>\n",
       "      <td>0.034676</td>\n",
       "      <td>-0.081022</td>\n",
       "      <td>-0.106657</td>\n",
       "      <td>-0.052918</td>\n",
       "      <td>0.067595</td>\n",
       "      <td>-0.100103</td>\n",
       "      <td>0.020216</td>\n",
       "      <td>-0.388738</td>\n",
       "      <td>-0.260065</td>\n",
       "      <td>-0.018781</td>\n",
       "      <td>0.067617</td>\n",
       "      <td>-0.160789</td>\n",
       "      <td>0.000000</td>\n",
       "      <td>-0.007078</td>\n",
       "      <td>-0.627565</td>\n",
       "      <td>0.085426</td>\n",
       "    </tr>\n",
       "    <tr>\n",
       "      <th>3</th>\n",
       "      <td>Good</td>\n",
       "      <td>c000313025</td>\n",
       "      <td>1.314781</td>\n",
       "      <td>-0.038464</td>\n",
       "      <td>-0.044661</td>\n",
       "      <td>0.585838</td>\n",
       "      <td>0.617950</td>\n",
       "      <td>0.678946</td>\n",
       "      <td>-0.223703</td>\n",
       "      <td>0.333864</td>\n",
       "      <td>-0.115021</td>\n",
       "      <td>0.034676</td>\n",
       "      <td>-0.081022</td>\n",
       "      <td>-0.106657</td>\n",
       "      <td>-0.052918</td>\n",
       "      <td>0.067595</td>\n",
       "      <td>0.316728</td>\n",
       "      <td>-0.306499</td>\n",
       "      <td>0.106343</td>\n",
       "      <td>0.668017</td>\n",
       "      <td>-0.018781</td>\n",
       "      <td>0.194776</td>\n",
       "      <td>0.000000</td>\n",
       "      <td>-0.022113</td>\n",
       "      <td>-0.007078</td>\n",
       "      <td>0.390124</td>\n",
       "      <td>-0.033008</td>\n",
       "    </tr>\n",
       "    <tr>\n",
       "      <th>4</th>\n",
       "      <td>Good</td>\n",
       "      <td>c000313037</td>\n",
       "      <td>0.143014</td>\n",
       "      <td>-0.038464</td>\n",
       "      <td>0.451330</td>\n",
       "      <td>-0.214584</td>\n",
       "      <td>-0.432184</td>\n",
       "      <td>-0.157973</td>\n",
       "      <td>-0.223703</td>\n",
       "      <td>0.333864</td>\n",
       "      <td>0.125904</td>\n",
       "      <td>0.049761</td>\n",
       "      <td>0.302566</td>\n",
       "      <td>0.133356</td>\n",
       "      <td>-0.052918</td>\n",
       "      <td>0.067595</td>\n",
       "      <td>-0.427055</td>\n",
       "      <td>0.358676</td>\n",
       "      <td>0.106343</td>\n",
       "      <td>-0.260065</td>\n",
       "      <td>0.139282</td>\n",
       "      <td>0.194776</td>\n",
       "      <td>0.000000</td>\n",
       "      <td>-0.022113</td>\n",
       "      <td>0.009154</td>\n",
       "      <td>0.390124</td>\n",
       "      <td>-0.033008</td>\n",
       "    </tr>\n",
       "  </tbody>\n",
       "</table>\n",
       "</div>"
      ],
      "text/plain": [
       "  target _customerID   woe_Age  woe_bureau  woe_cash  woe_EC_Card  \\\n",
       "0   Good  c000313007 -1.122775    0.089431 -0.342228    -0.214584   \n",
       "1   Good  c000313013 -0.595045   -0.038464  0.085037    -0.214584   \n",
       "2    Bad  c000313020 -1.122775   -0.038464 -0.342228    -0.214584   \n",
       "3   Good  c000313025  1.314781   -0.038464 -0.044661     0.585838   \n",
       "4   Good  c000313037  0.143014   -0.038464  0.451330    -0.214584   \n",
       "\n",
       "   woe_IncLevel  woe_Income  woe_Nchildren  woe_Nhousehold  woe_NumFinLoan  \\\n",
       "0     -0.432184   -0.238071      -0.223703       -0.536068       -0.115021   \n",
       "1      0.164962   -0.027397      -0.223703        0.333864        0.125904   \n",
       "2     -0.432184   -0.783027      -0.223703       -0.536068       -0.115021   \n",
       "3      0.617950    0.678946      -0.223703        0.333864       -0.115021   \n",
       "4     -0.432184   -0.157973      -0.223703        0.333864        0.125904   \n",
       "\n",
       "   woe_NumLoans  woe_NumMyLoan  woe_region  woe_regionLarge   woe_tel  \\\n",
       "0      0.049761      -0.081022   -0.046023        -0.052918  0.067595   \n",
       "1     -0.034920      -0.347649   -0.046023        -0.052918  0.067595   \n",
       "2      0.034676      -0.081022   -0.106657        -0.052918  0.067595   \n",
       "3      0.034676      -0.081022   -0.106657        -0.052918  0.067595   \n",
       "4      0.049761       0.302566    0.133356        -0.052918  0.067595   \n",
       "\n",
       "   woe_TimeAddress  woe_TimeJob   woe_car  woe_card   woe_nat  woe_product  \\\n",
       "0        -0.064647    -0.583998 -0.388738 -0.260065  0.139282    -0.115595   \n",
       "1        -0.020547     0.020216  0.106343 -0.260065  0.139282    -0.115595   \n",
       "2        -0.100103     0.020216 -0.388738 -0.260065 -0.018781     0.067617   \n",
       "3         0.316728    -0.306499  0.106343  0.668017 -0.018781     0.194776   \n",
       "4        -0.427055     0.358676  0.106343 -0.260065  0.139282     0.194776   \n",
       "\n",
       "   woe_prof  woe_resid  woe_saving  woe_status  woe_title  \n",
       "0  0.000000  -0.022113   -0.007078   -0.627565  -0.033008  \n",
       "1 -0.316603  -0.022113    0.009154    0.390124  -0.033008  \n",
       "2 -0.160789   0.000000   -0.007078   -0.627565   0.085426  \n",
       "3  0.000000  -0.022113   -0.007078    0.390124  -0.033008  \n",
       "4  0.000000  -0.022113    0.009154    0.390124  -0.033008  "
      ]
     },
     "execution_count": 28,
     "metadata": {},
     "output_type": "execute_result"
    }
   ],
   "source": [
    "woe_transform_df.head()"
   ]
  },
  {
   "cell_type": "code",
   "execution_count": 29,
   "metadata": {
    "collapsed": true
   },
   "outputs": [],
   "source": [
    "# Filter WOE Transform Table to Only Selected Features from Logistic Regression\n",
    "selected_params = lr_woe_mod_params['Parameter']\n",
    "\n",
    "woe_transform_df_selected = woe_transform_df[selected_params]"
   ]
  },
  {
   "cell_type": "code",
   "execution_count": 30,
   "metadata": {},
   "outputs": [
    {
     "data": {
      "text/plain": [
       "(156915, 22)"
      ]
     },
     "metadata": {},
     "output_type": "display_data"
    },
    {
     "data": {
      "text/plain": [
       "(22, 2)"
      ]
     },
     "metadata": {},
     "output_type": "display_data"
    }
   ],
   "source": [
    "# Ensure Shapes are Correct for Matrix Multiplication\n",
    "display(woe_transform_df_selected.shape)\n",
    "display(lr_woe_mod_params.shape)"
   ]
  },
  {
   "cell_type": "code",
   "execution_count": 31,
   "metadata": {
    "collapsed": true
   },
   "outputs": [],
   "source": [
    "# Set Parameter Name as Index\n",
    "lr_woe_mod_params_index = lr_woe_mod_params.set_index('Parameter')"
   ]
  },
  {
   "cell_type": "code",
   "execution_count": 32,
   "metadata": {
    "collapsed": true
   },
   "outputs": [],
   "source": [
    "# Multiply lr coefficients to observation WOE Values\n",
    "scorecard = woe_transform_df_selected[lr_woe_mod_params_index.index].apply(lambda x: x*lr_woe_mod_params_index['Estimate'].T,axis=1)"
   ]
  },
  {
   "cell_type": "code",
   "execution_count": 33,
   "metadata": {
    "collapsed": true
   },
   "outputs": [],
   "source": [
    "# Get Logit Values\n",
    "scorecard['logit'] = scorecard[list(scorecard.columns)].sum(axis=1) + intercept"
   ]
  },
  {
   "cell_type": "code",
   "execution_count": 34,
   "metadata": {
    "collapsed": true
   },
   "outputs": [],
   "source": [
    "# Convert Logit to Odds Ratio and Odds Ratio to Probability\n",
    "scorecard['odds'] = np.exp(scorecard['logit'])\n",
    "scorecard['probs'] = scorecard['odds'] / (scorecard['odds'] + 1)"
   ]
  },
  {
   "cell_type": "code",
   "execution_count": 35,
   "metadata": {
    "collapsed": true
   },
   "outputs": [],
   "source": [
    "# Set up Scoring Logic\n",
    "target_score = 600\n",
    "target_odds = 30\n",
    "pts_double_odds = 20\n",
    "\n",
    "factor = pts_double_odds / np.log(2)\n",
    "offset = target_score - factor * np.log(target_odds)"
   ]
  },
  {
   "cell_type": "code",
   "execution_count": 36,
   "metadata": {
    "collapsed": true
   },
   "outputs": [],
   "source": [
    "# Score\n",
    "scorecard['score'] = offset + factor * scorecard['logit']"
   ]
  },
  {
   "cell_type": "code",
   "execution_count": 37,
   "metadata": {
    "collapsed": true
   },
   "outputs": [],
   "source": [
    "# Add Back Customer ID and Target Features\n",
    "scorecard['customer_id'] = woe_transform_df['_customerID']\n",
    "scorecard['target'] = woe_transform_df['target']"
   ]
  },
  {
   "cell_type": "code",
   "execution_count": 38,
   "metadata": {
    "collapsed": true
   },
   "outputs": [],
   "source": [
    "# Remove Score Outliers (245, 0.156% of Total)\n",
    "scorecard = scorecard[scorecard['score'] <= 600]"
   ]
  },
  {
   "cell_type": "code",
   "execution_count": 39,
   "metadata": {},
   "outputs": [
    {
     "data": {
      "text/html": [
       "<div>\n",
       "<style scoped>\n",
       "    .dataframe tbody tr th:only-of-type {\n",
       "        vertical-align: middle;\n",
       "    }\n",
       "\n",
       "    .dataframe tbody tr th {\n",
       "        vertical-align: top;\n",
       "    }\n",
       "\n",
       "    .dataframe thead th {\n",
       "        text-align: right;\n",
       "    }\n",
       "</style>\n",
       "<table border=\"1\" class=\"dataframe\">\n",
       "  <thead>\n",
       "    <tr style=\"text-align: right;\">\n",
       "      <th></th>\n",
       "      <th>woe_title</th>\n",
       "      <th>woe_Nchildren</th>\n",
       "      <th>woe_Nhousehold</th>\n",
       "      <th>woe_Age</th>\n",
       "      <th>woe_TimeAddress</th>\n",
       "      <th>woe_TimeJob</th>\n",
       "      <th>woe_tel</th>\n",
       "      <th>woe_NumMyLoan</th>\n",
       "      <th>woe_NumFinLoan</th>\n",
       "      <th>woe_NumLoans</th>\n",
       "      <th>woe_IncLevel</th>\n",
       "      <th>woe_status</th>\n",
       "      <th>woe_bureau</th>\n",
       "      <th>woe_region</th>\n",
       "      <th>woe_regionLarge</th>\n",
       "      <th>woe_cash</th>\n",
       "      <th>woe_product</th>\n",
       "      <th>woe_resid</th>\n",
       "      <th>woe_nat</th>\n",
       "      <th>woe_prof</th>\n",
       "      <th>woe_car</th>\n",
       "      <th>woe_card</th>\n",
       "      <th>logit</th>\n",
       "      <th>odds</th>\n",
       "      <th>probs</th>\n",
       "      <th>score</th>\n",
       "      <th>customer_id</th>\n",
       "      <th>target</th>\n",
       "    </tr>\n",
       "  </thead>\n",
       "  <tbody>\n",
       "    <tr>\n",
       "      <th>0</th>\n",
       "      <td>-0.042035</td>\n",
       "      <td>0.204085</td>\n",
       "      <td>-0.231106</td>\n",
       "      <td>0.922910</td>\n",
       "      <td>-0.018216</td>\n",
       "      <td>0.127849</td>\n",
       "      <td>-0.047959</td>\n",
       "      <td>0.064373</td>\n",
       "      <td>0.066524</td>\n",
       "      <td>-0.074736</td>\n",
       "      <td>0.200007</td>\n",
       "      <td>0.214180</td>\n",
       "      <td>-0.208118</td>\n",
       "      <td>0.033489</td>\n",
       "      <td>-0.145221</td>\n",
       "      <td>0.172456</td>\n",
       "      <td>0.068089</td>\n",
       "      <td>0.027759</td>\n",
       "      <td>-0.259653</td>\n",
       "      <td>-0.000000</td>\n",
       "      <td>0.540589</td>\n",
       "      <td>0.198521</td>\n",
       "      <td>0.477227</td>\n",
       "      <td>1.611599</td>\n",
       "      <td>0.617093</td>\n",
       "      <td>515.632037</td>\n",
       "      <td>c000313007</td>\n",
       "      <td>Good</td>\n",
       "    </tr>\n",
       "    <tr>\n",
       "      <th>1</th>\n",
       "      <td>-0.042035</td>\n",
       "      <td>0.204085</td>\n",
       "      <td>0.143933</td>\n",
       "      <td>0.489121</td>\n",
       "      <td>-0.005789</td>\n",
       "      <td>-0.004426</td>\n",
       "      <td>-0.047959</td>\n",
       "      <td>0.276213</td>\n",
       "      <td>-0.072818</td>\n",
       "      <td>0.052446</td>\n",
       "      <td>-0.076342</td>\n",
       "      <td>-0.133144</td>\n",
       "      <td>0.089511</td>\n",
       "      <td>0.033489</td>\n",
       "      <td>-0.145221</td>\n",
       "      <td>-0.042852</td>\n",
       "      <td>0.068089</td>\n",
       "      <td>0.027759</td>\n",
       "      <td>-0.259653</td>\n",
       "      <td>0.262413</td>\n",
       "      <td>-0.147883</td>\n",
       "      <td>0.198521</td>\n",
       "      <td>-0.469102</td>\n",
       "      <td>0.625564</td>\n",
       "      <td>0.384829</td>\n",
       "      <td>488.326755</td>\n",
       "      <td>c000313013</td>\n",
       "      <td>Good</td>\n",
       "    </tr>\n",
       "    <tr>\n",
       "      <th>2</th>\n",
       "      <td>0.108788</td>\n",
       "      <td>0.204085</td>\n",
       "      <td>-0.231106</td>\n",
       "      <td>0.922910</td>\n",
       "      <td>-0.028206</td>\n",
       "      <td>-0.004426</td>\n",
       "      <td>-0.047959</td>\n",
       "      <td>0.064373</td>\n",
       "      <td>0.066524</td>\n",
       "      <td>-0.052079</td>\n",
       "      <td>0.200007</td>\n",
       "      <td>0.214180</td>\n",
       "      <td>0.089511</td>\n",
       "      <td>0.077610</td>\n",
       "      <td>-0.145221</td>\n",
       "      <td>0.172456</td>\n",
       "      <td>-0.039829</td>\n",
       "      <td>-0.000000</td>\n",
       "      <td>0.035011</td>\n",
       "      <td>0.133268</td>\n",
       "      <td>0.540589</td>\n",
       "      <td>0.198521</td>\n",
       "      <td>1.142446</td>\n",
       "      <td>3.134427</td>\n",
       "      <td>0.758129</td>\n",
       "      <td>534.826226</td>\n",
       "      <td>c000313020</td>\n",
       "      <td>Bad</td>\n",
       "    </tr>\n",
       "    <tr>\n",
       "      <th>3</th>\n",
       "      <td>-0.042035</td>\n",
       "      <td>0.204085</td>\n",
       "      <td>0.143933</td>\n",
       "      <td>-1.080737</td>\n",
       "      <td>0.089245</td>\n",
       "      <td>0.067099</td>\n",
       "      <td>-0.047959</td>\n",
       "      <td>0.064373</td>\n",
       "      <td>0.066524</td>\n",
       "      <td>-0.052079</td>\n",
       "      <td>-0.285977</td>\n",
       "      <td>-0.133144</td>\n",
       "      <td>0.089511</td>\n",
       "      <td>0.077610</td>\n",
       "      <td>-0.145221</td>\n",
       "      <td>0.022505</td>\n",
       "      <td>-0.114729</td>\n",
       "      <td>0.027759</td>\n",
       "      <td>0.035011</td>\n",
       "      <td>-0.000000</td>\n",
       "      <td>-0.147883</td>\n",
       "      <td>-0.509932</td>\n",
       "      <td>-3.008604</td>\n",
       "      <td>0.049361</td>\n",
       "      <td>0.047039</td>\n",
       "      <td>415.052237</td>\n",
       "      <td>c000313025</td>\n",
       "      <td>Good</td>\n",
       "    </tr>\n",
       "    <tr>\n",
       "      <th>4</th>\n",
       "      <td>-0.042035</td>\n",
       "      <td>0.204085</td>\n",
       "      <td>0.143933</td>\n",
       "      <td>-0.117556</td>\n",
       "      <td>-0.120332</td>\n",
       "      <td>-0.078521</td>\n",
       "      <td>-0.047959</td>\n",
       "      <td>-0.240394</td>\n",
       "      <td>-0.072818</td>\n",
       "      <td>-0.074736</td>\n",
       "      <td>0.200007</td>\n",
       "      <td>-0.133144</td>\n",
       "      <td>0.089511</td>\n",
       "      <td>-0.097037</td>\n",
       "      <td>-0.145221</td>\n",
       "      <td>-0.227435</td>\n",
       "      <td>-0.114729</td>\n",
       "      <td>0.027759</td>\n",
       "      <td>-0.259653</td>\n",
       "      <td>-0.000000</td>\n",
       "      <td>-0.147883</td>\n",
       "      <td>0.198521</td>\n",
       "      <td>-2.392198</td>\n",
       "      <td>0.091428</td>\n",
       "      <td>0.083770</td>\n",
       "      <td>432.837942</td>\n",
       "      <td>c000313037</td>\n",
       "      <td>Good</td>\n",
       "    </tr>\n",
       "  </tbody>\n",
       "</table>\n",
       "</div>"
      ],
      "text/plain": [
       "   woe_title  woe_Nchildren  woe_Nhousehold   woe_Age  woe_TimeAddress  \\\n",
       "0  -0.042035       0.204085       -0.231106  0.922910        -0.018216   \n",
       "1  -0.042035       0.204085        0.143933  0.489121        -0.005789   \n",
       "2   0.108788       0.204085       -0.231106  0.922910        -0.028206   \n",
       "3  -0.042035       0.204085        0.143933 -1.080737         0.089245   \n",
       "4  -0.042035       0.204085        0.143933 -0.117556        -0.120332   \n",
       "\n",
       "   woe_TimeJob   woe_tel  woe_NumMyLoan  woe_NumFinLoan  woe_NumLoans  \\\n",
       "0     0.127849 -0.047959       0.064373        0.066524     -0.074736   \n",
       "1    -0.004426 -0.047959       0.276213       -0.072818      0.052446   \n",
       "2    -0.004426 -0.047959       0.064373        0.066524     -0.052079   \n",
       "3     0.067099 -0.047959       0.064373        0.066524     -0.052079   \n",
       "4    -0.078521 -0.047959      -0.240394       -0.072818     -0.074736   \n",
       "\n",
       "   woe_IncLevel  woe_status  woe_bureau  woe_region  woe_regionLarge  \\\n",
       "0      0.200007    0.214180   -0.208118    0.033489        -0.145221   \n",
       "1     -0.076342   -0.133144    0.089511    0.033489        -0.145221   \n",
       "2      0.200007    0.214180    0.089511    0.077610        -0.145221   \n",
       "3     -0.285977   -0.133144    0.089511    0.077610        -0.145221   \n",
       "4      0.200007   -0.133144    0.089511   -0.097037        -0.145221   \n",
       "\n",
       "   woe_cash  woe_product  woe_resid   woe_nat  woe_prof   woe_car  woe_card  \\\n",
       "0  0.172456     0.068089   0.027759 -0.259653 -0.000000  0.540589  0.198521   \n",
       "1 -0.042852     0.068089   0.027759 -0.259653  0.262413 -0.147883  0.198521   \n",
       "2  0.172456    -0.039829  -0.000000  0.035011  0.133268  0.540589  0.198521   \n",
       "3  0.022505    -0.114729   0.027759  0.035011 -0.000000 -0.147883 -0.509932   \n",
       "4 -0.227435    -0.114729   0.027759 -0.259653 -0.000000 -0.147883  0.198521   \n",
       "\n",
       "      logit      odds     probs       score customer_id target  \n",
       "0  0.477227  1.611599  0.617093  515.632037  c000313007   Good  \n",
       "1 -0.469102  0.625564  0.384829  488.326755  c000313013   Good  \n",
       "2  1.142446  3.134427  0.758129  534.826226  c000313020    Bad  \n",
       "3 -3.008604  0.049361  0.047039  415.052237  c000313025   Good  \n",
       "4 -2.392198  0.091428  0.083770  432.837942  c000313037   Good  "
      ]
     },
     "execution_count": 39,
     "metadata": {},
     "output_type": "execute_result"
    }
   ],
   "source": [
    "# Preview Score Data (Scores, Odds, Probs, etc)\n",
    "scorecard.head(n=5)"
   ]
  },
  {
   "cell_type": "markdown",
   "metadata": {},
   "source": [
    "<a name=\"visual\"></a>"
   ]
  },
  {
   "cell_type": "markdown",
   "metadata": {},
   "source": [
    "<div class=\"alert alert-info\">\n",
    "<b>Visualizing our Scores</b>\n",
    "</div>"
   ]
  },
  {
   "cell_type": "code",
   "execution_count": 40,
   "metadata": {},
   "outputs": [
    {
     "data": {
      "image/png": "[encoded data removed]",
      "text/plain": [
       "<Figure size 1152x576 with 1 Axes>"
      ]
     },
     "metadata": {},
     "output_type": "display_data"
    }
   ],
   "source": [
    "# Plot Distribution of Scores\n",
    "plt.figure(figsize=(16,8))\n",
    "\n",
    "plt.hist(scorecard['score'],\n",
    "         bins=150,\n",
    "         edgecolor='white',\n",
    "         color = '#317DC2',\n",
    "         linewidth=1.2)\n",
    "\n",
    "#plt.xlim(231,750)\n",
    "plt.title('Scorecard Distribution', fontweight=\"bold\", fontsize=14)\n",
    "plt.axvline(scorecard['score'].mean(), color='k', linestyle='dashed', linewidth=1.5, alpha=0.5)\n",
    "plt.text(458, 2970, 'Mean Score: 456', color='red', fontweight='bold', style='italic', fontsize=8)\n",
    "plt.xlabel('Score')\n",
    "plt.ylabel('Count');"
   ]
  },
  {
   "cell_type": "code",
   "execution_count": 41,
   "metadata": {},
   "outputs": [
    {
     "data": {
      "image/png": "[encoded data removed]",
      "text/plain": [
       "<Figure size 1152x576 with 1 Axes>"
      ]
     },
     "metadata": {},
     "output_type": "display_data"
    }
   ],
   "source": [
    "# Plot Scores Against Predicted Odds (Exponential Relationship)\n",
    "plt.figure(figsize=(16,8))\n",
    "\n",
    "plt.scatter(x='score',\n",
    "            y='odds',\n",
    "            data=scorecard,\n",
    "            color='#317DC2')\n",
    "\n",
    "plt.title('Score by Predicted Odds', fontweight=\"bold\", fontsize=14)\n",
    "plt.xlabel('Score')\n",
    "plt.ylabel('Odds');"
   ]
  },
  {
   "cell_type": "code",
   "execution_count": 42,
   "metadata": {},
   "outputs": [
    {
     "data": {
      "image/png": "[encoded data removed]",
      "text/plain": [
       "<Figure size 1152x576 with 1 Axes>"
      ]
     },
     "metadata": {},
     "output_type": "display_data"
    }
   ],
   "source": [
    "# Plot Scores Against Probabilities\n",
    "plt.figure(figsize=(16,8))\n",
    "\n",
    "plt.scatter(x='score',\n",
    "            y='probs',\n",
    "            data=scorecard,\n",
    "            color='#317DC2')\n",
    "\n",
    "plt.title('Scores by Probability', fontweight=\"bold\", fontsize=14)\n",
    "plt.xlabel('Score')\n",
    "plt.ylabel('Probability (Good)');"
   ]
  },
  {
   "cell_type": "code",
   "execution_count": 43,
   "metadata": {},
   "outputs": [
    {
     "data": {
      "image/png": "[encoded data removed]",
      "text/plain": [
       "<Figure size 1152x576 with 1 Axes>"
      ]
     },
     "metadata": {},
     "output_type": "display_data"
    }
   ],
   "source": [
    "# Add Scoring Groups to Plot\n",
    "plt.figure(figsize=(16,8))\n",
    "\n",
    "plt.hist(scorecard['score'],\n",
    "         bins=150,\n",
    "         edgecolor='white',\n",
    "         color = '#317DC2',\n",
    "         linewidth=1.2)\n",
    "\n",
    "plt.xlim(350,560)\n",
    "plt.title('Scoring Groups', fontweight=\"bold\", fontsize=14)\n",
    "plt.xlabel('Score')\n",
    "plt.ylabel('Count')\n",
    "\n",
    "# Percentile Lines\n",
    "plt.axvline(np.percentile(scorecard['score'],25), color='red', linestyle='dashed', linewidth=2, alpha=0.6)\n",
    "plt.axvline(np.percentile(scorecard['score'],50), color='orange', linestyle='dashed', linewidth=2, alpha=0.6)\n",
    "plt.axvline(np.percentile(scorecard['score'],75), color='green', linestyle='dashed', linewidth=2, alpha=0.6)\n",
    "\n",
    "# Text\n",
    "plt.text(390, 2980, 'Poor', color='red', fontweight='bold', style='italic', fontsize=12)\n",
    "plt.text(441, 2980, 'Fair', color='orange', fontweight='bold', style='italic', fontsize=12)\n",
    "plt.text(460, 2980, 'Good', color='green', fontweight='bold', style='italic', fontsize=12)\n",
    "plt.text(500, 2980, 'Excellent', color='blue', fontweight='bold', style='italic', fontsize=12)\n",
    "\n",
    "# Shading between Percentiles\n",
    "plt.axvspan(350, 435.5, alpha=0.1, color='red')\n",
    "plt.axvspan(435.5, 453.5, alpha=0.1, color='yellow')\n",
    "plt.axvspan(453.5, 475.38, alpha=0.1, color='green')\n",
    "plt.axvspan(475.38, 560, alpha=0.1, color='blue');"
   ]
  },
  {
   "cell_type": "markdown",
   "metadata": {},
   "source": [
    "<a name=\"score\"></a>"
   ]
  },
  {
   "cell_type": "markdown",
   "metadata": {},
   "source": [
    "<div class=\"alert alert-info\">\n",
    "<b>Scoring New Data</b>\n",
    "</div>"
   ]
  },
  {
   "cell_type": "code",
   "execution_count": 46,
   "metadata": {
    "collapsed": true
   },
   "outputs": [],
   "source": [
    "# Just take 5 Samples for Fake Test Set to Show Scoring\n",
    "test_data = pd.DataFrame(conn.CASTable('credit_data').head())"
   ]
  },
  {
   "cell_type": "code",
   "execution_count": 47,
   "metadata": {},
   "outputs": [
    {
     "name": "stdout",
     "output_type": "stream",
     "text": [
      "NOTE: Cloud Analytic Services made the uploaded file available as table TEST_DATA in caslib credit.\n",
      "NOTE: The table TEST_DATA has been created in caslib credit from binary data uploaded to Cloud Analytic Services.\n"
     ]
    }
   ],
   "source": [
    "# Load to CAS\n",
    "test_data = conn.upload_frame(test_data, casout=dict(name='test_data', replace=True))"
   ]
  },
  {
   "cell_type": "code",
   "execution_count": 48,
   "metadata": {
    "collapsed": true
   },
   "outputs": [],
   "source": [
    "# Create Function from SAS Actions to Score From Data to WOE to Imputation to Logistic\n",
    "def model_scoring(conn, woe_code_tbl, lr_code_tbl, test_tbl, scored_tbl_name):\n",
    "    \n",
    "    conn.datastep.runcodetable(codetable = woe_code_tbl,\n",
    "                               table = test_tbl,\n",
    "                               casOut = dict(name='woe_out_tbl_1'))\n",
    "    \n",
    "    conn.impute(table=dict(name = 'woe_out_tbl_1'),\n",
    "                           methodInterval = 'VALUE',\n",
    "                           valuesInterval = [0],\n",
    "                           casout = dict(name='imp_out_tbl_2', replace=True),\n",
    "                           outVarsNamePrefix = '')\n",
    "    \n",
    "    conn.datastep.runcodetable(codetable = lr_code_tbl,\n",
    "                               table = 'imp_out_tbl_2',\n",
    "                               casOut = dict(name=scored_tbl_name))"
   ]
  },
  {
   "cell_type": "code",
   "execution_count": 49,
   "metadata": {
    "collapsed": true
   },
   "outputs": [],
   "source": [
    "# Score Data\n",
    "model_scoring(conn, 'woe_code', 'lr_code', test_data, 'scored_data')"
   ]
  },
  {
   "cell_type": "code",
   "execution_count": null,
   "metadata": {
    "collapsed": true
   },
   "outputs": [],
   "source": []
  }
 ],
 "metadata": {
  "kernelspec": {
   "display_name": "Python 3",
   "language": "python",
   "name": "python3"
  },
  "language_info": {
   "codemirror_mode": {
    "name": "ipython",
    "version": 3
   },
   "file_extension": ".py",
   "mimetype": "text/x-python",
   "name": "python",
   "nbconvert_exporter": "python",
   "pygments_lexer": "ipython3",
   "version": "3.8.3"
  }
 },
 "nbformat": 4,
 "nbformat_minor": 2
}
